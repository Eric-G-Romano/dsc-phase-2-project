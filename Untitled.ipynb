{
 "cells": [
  {
   "cell_type": "code",
   "execution_count": 2,
   "metadata": {},
   "outputs": [],
   "source": [
    "import pandas as pd\n",
    "import numpy as np \n",
    "import seaborn as sns\n",
    "import matplotlib.pyplot as plt\n",
    "%matplotlib notebook"
   ]
  },
  {
   "cell_type": "code",
   "execution_count": 4,
   "metadata": {},
   "outputs": [
    {
     "data": {
      "text/html": [
       "<div>\n",
       "<style scoped>\n",
       "    .dataframe tbody tr th:only-of-type {\n",
       "        vertical-align: middle;\n",
       "    }\n",
       "\n",
       "    .dataframe tbody tr th {\n",
       "        vertical-align: top;\n",
       "    }\n",
       "\n",
       "    .dataframe thead th {\n",
       "        text-align: right;\n",
       "    }\n",
       "</style>\n",
       "<table border=\"1\" class=\"dataframe\">\n",
       "  <thead>\n",
       "    <tr style=\"text-align: right;\">\n",
       "      <th></th>\n",
       "      <th>ID Year</th>\n",
       "      <th>Year</th>\n",
       "      <th>Household Income by Race</th>\n",
       "      <th>Household Income by Race Moe</th>\n",
       "      <th>Geography</th>\n",
       "      <th>ID Geography</th>\n",
       "      <th>Slug Geography</th>\n",
       "    </tr>\n",
       "  </thead>\n",
       "  <tbody>\n",
       "    <tr>\n",
       "      <th>0</th>\n",
       "      <td>2018</td>\n",
       "      <td>2018</td>\n",
       "      <td>56135</td>\n",
       "      <td>2615.0</td>\n",
       "      <td>Chelan County, WA</td>\n",
       "      <td>05000US53007</td>\n",
       "      <td>chelan-county-wa</td>\n",
       "    </tr>\n",
       "    <tr>\n",
       "      <th>1</th>\n",
       "      <td>2018</td>\n",
       "      <td>2018</td>\n",
       "      <td>82189</td>\n",
       "      <td>453.0</td>\n",
       "      <td>Seattle-Tacoma-Bellevue, WA</td>\n",
       "      <td>31000US42660</td>\n",
       "      <td>seattle-tacoma-bellevue-wa</td>\n",
       "    </tr>\n",
       "    <tr>\n",
       "      <th>2</th>\n",
       "      <td>2018</td>\n",
       "      <td>2018</td>\n",
       "      <td>89418</td>\n",
       "      <td>784.0</td>\n",
       "      <td>King County, WA</td>\n",
       "      <td>05000US53033</td>\n",
       "      <td>king-county-wa</td>\n",
       "    </tr>\n",
       "    <tr>\n",
       "      <th>3</th>\n",
       "      <td>2018</td>\n",
       "      <td>2018</td>\n",
       "      <td>60293</td>\n",
       "      <td>140.0</td>\n",
       "      <td>United States</td>\n",
       "      <td>01000US</td>\n",
       "      <td>united-states</td>\n",
       "    </tr>\n",
       "    <tr>\n",
       "      <th>4</th>\n",
       "      <td>2018</td>\n",
       "      <td>2018</td>\n",
       "      <td>71610</td>\n",
       "      <td>1435.0</td>\n",
       "      <td>Kitsap County, WA</td>\n",
       "      <td>05000US53035</td>\n",
       "      <td>kitsap-county-wa</td>\n",
       "    </tr>\n",
       "  </tbody>\n",
       "</table>\n",
       "</div>"
      ],
      "text/plain": [
       "   ID Year  Year  Household Income by Race  Household Income by Race Moe  \\\n",
       "0     2018  2018                     56135                        2615.0   \n",
       "1     2018  2018                     82189                         453.0   \n",
       "2     2018  2018                     89418                         784.0   \n",
       "3     2018  2018                     60293                         140.0   \n",
       "4     2018  2018                     71610                        1435.0   \n",
       "\n",
       "                     Geography  ID Geography              Slug Geography  \n",
       "0            Chelan County, WA  05000US53007            chelan-county-wa  \n",
       "1  Seattle-Tacoma-Bellevue, WA  31000US42660  seattle-tacoma-bellevue-wa  \n",
       "2              King County, WA  05000US53033              king-county-wa  \n",
       "3                United States       01000US               united-states  \n",
       "4            Kitsap County, WA  05000US53035            kitsap-county-wa  "
      ]
     },
     "execution_count": 4,
     "metadata": {},
     "output_type": "execute_result"
    }
   ],
   "source": [
    "df = pd.read_csv(\"Median Household Income.zip\")\n",
    "df.head()"
   ]
  },
  {
   "cell_type": "code",
   "execution_count": null,
   "metadata": {},
   "outputs": [],
   "source": []
  }
 ],
 "metadata": {
  "kernelspec": {
   "display_name": "Python 3",
   "language": "python",
   "name": "python3"
  },
  "language_info": {
   "codemirror_mode": {
    "name": "ipython",
    "version": 3
   },
   "file_extension": ".py",
   "mimetype": "text/x-python",
   "name": "python",
   "nbconvert_exporter": "python",
   "pygments_lexer": "ipython3",
   "version": "3.8.3"
  }
 },
 "nbformat": 4,
 "nbformat_minor": 4
}
